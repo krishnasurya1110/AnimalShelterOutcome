{
 "cells": [
  {
   "cell_type": "markdown",
   "metadata": {},
   "source": [
    "# Animal Shelter Outcome Analysis\n",
    "This project focuses on finding the effects of type, gender, age, breed and fertility on the adoption/ transfer of animals. The analysis answers the following questions:\n",
    "\n",
    "- What are the general outcomes?\n",
    "- Can we spot seasonality in the adoption/ transfer trends?\n",
    "- Do cats have more luck in getting adopted?\n",
    "- Do male dogs & cats have a better shot at getting adopted than their female counterparts?\n",
    "- What are the most prevelants breeds of animals in the shelter?\n",
    "- Do people prefer sterile animals for a pet?\n",
    "- Is age a factor?\n",
    "- A few interesting analyses on insights found along the way\n",
    "\n",
    "The dataset can be downloaded from [here](https://www.kaggle.com/c/shelter-animal-outcomes/data). "
   ]
  },
  {
   "cell_type": "code",
   "execution_count": 2,
   "metadata": {},
   "outputs": [
    {
     "name": "stdout",
     "output_type": "stream",
     "text": [
      "<class 'pandas.core.frame.DataFrame'>\n",
      "RangeIndex: 26729 entries, 0 to 26728\n",
      "Data columns (total 10 columns):\n",
      " #   Column          Non-Null Count  Dtype \n",
      "---  ------          --------------  ----- \n",
      " 0   AnimalID        26729 non-null  object\n",
      " 1   Name            19038 non-null  object\n",
      " 2   DateTime        26729 non-null  object\n",
      " 3   OutcomeType     26729 non-null  object\n",
      " 4   OutcomeSubtype  13117 non-null  object\n",
      " 5   AnimalType      26729 non-null  object\n",
      " 6   SexuponOutcome  26728 non-null  object\n",
      " 7   AgeuponOutcome  26711 non-null  object\n",
      " 8   Breed           26729 non-null  object\n",
      " 9   Color           26729 non-null  object\n",
      "dtypes: object(10)\n",
      "memory usage: 2.0+ MB\n"
     ]
    }
   ],
   "source": [
    "import pandas as pd\n",
    "df = pd.read_csv('shelter_outcome.csv')\n",
    "df.info()"
   ]
  },
  {
   "cell_type": "code",
   "execution_count": 3,
   "metadata": {
    "scrolled": true
   },
   "outputs": [
    {
     "data": {
      "text/plain": [
       "AnimalID              0\n",
       "Name               7691\n",
       "DateTime              0\n",
       "OutcomeType           0\n",
       "OutcomeSubtype    13612\n",
       "AnimalType            0\n",
       "SexuponOutcome        1\n",
       "AgeuponOutcome       18\n",
       "Breed                 0\n",
       "Color                 0\n",
       "dtype: int64"
      ]
     },
     "execution_count": 3,
     "metadata": {},
     "output_type": "execute_result"
    }
   ],
   "source": [
    "df.isnull().sum()"
   ]
  },
  {
   "cell_type": "markdown",
   "metadata": {},
   "source": [
    "Only the `'Name'` and `'OutcomeSubType'` columns have missing values which does not affect the analysis. <br><br>\n",
    "**Renaming columns:** Changing CamelCase columns to snake_case and getting rid of redundant details."
   ]
  },
  {
   "cell_type": "code",
   "execution_count": 4,
   "metadata": {},
   "outputs": [
    {
     "data": {
      "text/html": [
       "<div>\n",
       "<style scoped>\n",
       "    .dataframe tbody tr th:only-of-type {\n",
       "        vertical-align: middle;\n",
       "    }\n",
       "\n",
       "    .dataframe tbody tr th {\n",
       "        vertical-align: top;\n",
       "    }\n",
       "\n",
       "    .dataframe thead th {\n",
       "        text-align: right;\n",
       "    }\n",
       "</style>\n",
       "<table border=\"1\" class=\"dataframe\">\n",
       "  <thead>\n",
       "    <tr style=\"text-align: right;\">\n",
       "      <th></th>\n",
       "      <th>id</th>\n",
       "      <th>name</th>\n",
       "      <th>datetime</th>\n",
       "      <th>outcome_type</th>\n",
       "      <th>outcome_subtype</th>\n",
       "      <th>type</th>\n",
       "      <th>sex</th>\n",
       "      <th>age</th>\n",
       "      <th>breed</th>\n",
       "      <th>color</th>\n",
       "    </tr>\n",
       "  </thead>\n",
       "  <tbody>\n",
       "    <tr>\n",
       "      <th>0</th>\n",
       "      <td>A671945</td>\n",
       "      <td>Hambone</td>\n",
       "      <td>2014-02-12 18:22:00</td>\n",
       "      <td>Return_to_owner</td>\n",
       "      <td>NaN</td>\n",
       "      <td>Dog</td>\n",
       "      <td>Neutered Male</td>\n",
       "      <td>1 year</td>\n",
       "      <td>Shetland Sheepdog Mix</td>\n",
       "      <td>Brown/White</td>\n",
       "    </tr>\n",
       "    <tr>\n",
       "      <th>1</th>\n",
       "      <td>A656520</td>\n",
       "      <td>Emily</td>\n",
       "      <td>2013-10-13 12:44:00</td>\n",
       "      <td>Euthanasia</td>\n",
       "      <td>Suffering</td>\n",
       "      <td>Cat</td>\n",
       "      <td>Spayed Female</td>\n",
       "      <td>1 year</td>\n",
       "      <td>Domestic Shorthair Mix</td>\n",
       "      <td>Cream Tabby</td>\n",
       "    </tr>\n",
       "    <tr>\n",
       "      <th>2</th>\n",
       "      <td>A686464</td>\n",
       "      <td>Pearce</td>\n",
       "      <td>2015-01-31 12:28:00</td>\n",
       "      <td>Adoption</td>\n",
       "      <td>Foster</td>\n",
       "      <td>Dog</td>\n",
       "      <td>Neutered Male</td>\n",
       "      <td>2 years</td>\n",
       "      <td>Pit Bull Mix</td>\n",
       "      <td>Blue/White</td>\n",
       "    </tr>\n",
       "    <tr>\n",
       "      <th>3</th>\n",
       "      <td>A683430</td>\n",
       "      <td>NaN</td>\n",
       "      <td>2014-07-11 19:09:00</td>\n",
       "      <td>Transfer</td>\n",
       "      <td>Partner</td>\n",
       "      <td>Cat</td>\n",
       "      <td>Intact Male</td>\n",
       "      <td>3 weeks</td>\n",
       "      <td>Domestic Shorthair Mix</td>\n",
       "      <td>Blue Cream</td>\n",
       "    </tr>\n",
       "    <tr>\n",
       "      <th>4</th>\n",
       "      <td>A667013</td>\n",
       "      <td>NaN</td>\n",
       "      <td>2013-11-15 12:52:00</td>\n",
       "      <td>Transfer</td>\n",
       "      <td>Partner</td>\n",
       "      <td>Dog</td>\n",
       "      <td>Neutered Male</td>\n",
       "      <td>2 years</td>\n",
       "      <td>Lhasa Apso/Miniature Poodle</td>\n",
       "      <td>Tan</td>\n",
       "    </tr>\n",
       "  </tbody>\n",
       "</table>\n",
       "</div>"
      ],
      "text/plain": [
       "        id     name             datetime     outcome_type outcome_subtype  \\\n",
       "0  A671945  Hambone  2014-02-12 18:22:00  Return_to_owner             NaN   \n",
       "1  A656520    Emily  2013-10-13 12:44:00       Euthanasia       Suffering   \n",
       "2  A686464   Pearce  2015-01-31 12:28:00         Adoption          Foster   \n",
       "3  A683430      NaN  2014-07-11 19:09:00         Transfer         Partner   \n",
       "4  A667013      NaN  2013-11-15 12:52:00         Transfer         Partner   \n",
       "\n",
       "  type            sex      age                        breed        color  \n",
       "0  Dog  Neutered Male   1 year        Shetland Sheepdog Mix  Brown/White  \n",
       "1  Cat  Spayed Female   1 year       Domestic Shorthair Mix  Cream Tabby  \n",
       "2  Dog  Neutered Male  2 years                 Pit Bull Mix   Blue/White  \n",
       "3  Cat    Intact Male  3 weeks       Domestic Shorthair Mix   Blue Cream  \n",
       "4  Dog  Neutered Male  2 years  Lhasa Apso/Miniature Poodle          Tan  "
      ]
     },
     "execution_count": 4,
     "metadata": {},
     "output_type": "execute_result"
    }
   ],
   "source": [
    "col_list =[]\n",
    "\n",
    "for col in df.columns:\n",
    "    col = col.lower()\n",
    "    col = col.replace('animal', '')\n",
    "    col = col.replace('uponoutcome', '')\n",
    "    col = col.replace('outcome', 'outcome_')\n",
    "    col_list.append(col)\n",
    "\n",
    "df.columns = col_list\n",
    "df.head()"
   ]
  },
  {
   "cell_type": "markdown",
   "metadata": {},
   "source": [
    "**Date and time** information are given in the object format. Converting them to datetime to use in time series analysis later:"
   ]
  },
  {
   "cell_type": "code",
   "execution_count": 5,
   "metadata": {},
   "outputs": [
    {
     "data": {
      "text/plain": [
       "id                         object\n",
       "name                       object\n",
       "datetime           datetime64[ns]\n",
       "outcome_type               object\n",
       "outcome_subtype            object\n",
       "type                       object\n",
       "sex                        object\n",
       "age                        object\n",
       "breed                      object\n",
       "color                      object\n",
       "dtype: object"
      ]
     },
     "execution_count": 5,
     "metadata": {},
     "output_type": "execute_result"
    }
   ],
   "source": [
    "import datetime as dt\n",
    "df['datetime'] = pd.to_datetime(df['datetime'])\n",
    "df.dtypes"
   ]
  },
  {
   "cell_type": "markdown",
   "metadata": {},
   "source": [
    "Analysing the outcome strength of the shelter by **year**:"
   ]
  },
  {
   "cell_type": "code",
   "execution_count": 6,
   "metadata": {},
   "outputs": [
    {
     "data": {
      "text/plain": [
       "2013     2702\n",
       "2014    11179\n",
       "2015    11481\n",
       "2016     1367\n",
       "Name: year, dtype: int64"
      ]
     },
     "execution_count": 6,
     "metadata": {},
     "output_type": "execute_result"
    }
   ],
   "source": [
    "df['year'] = pd.DatetimeIndex(df['datetime']).year\n",
    "df['year'].value_counts().sort_index()"
   ]
  },
  {
   "cell_type": "code",
   "execution_count": 7,
   "metadata": {},
   "outputs": [
    {
     "name": "stdout",
     "output_type": "stream",
     "text": [
      "Months in the year 2013: [10 11 12]\n",
      "Months in the year 2014: [ 2  7  4  5  6  1  8 11  9 12  3 10]\n",
      "Months in the year 2015: [ 1  3  4  6 11  9  8 10  7  5 12  2]\n",
      "Months in the year 2016: [2 1]\n"
     ]
    }
   ],
   "source": [
    "df['month'] = pd.DatetimeIndex(df['datetime']).month\n",
    "for i in range(2013, 2017):\n",
    "    print('Months in the year {}: '.format(i), end = '')\n",
    "    print(df.loc[(df['year'] == i), 'month'].unique())"
   ]
  },
  {
   "cell_type": "markdown",
   "metadata": {},
   "source": [
    "As mentioned [here](https://www.kaggle.com/c/shelter-animal-outcomes/data), the years 2013 and 2016 has values only for a few months. This can hinder the analysis of yearly adoption/ transfer trends. So the data from these **two years are removed** from furthur analysis."
   ]
  },
  {
   "cell_type": "code",
   "execution_count": 8,
   "metadata": {},
   "outputs": [
    {
     "name": "stdout",
     "output_type": "stream",
     "text": [
      "Now the dataset has values only for the years 2014 and 2015 with a total strength of 22660 animals\n"
     ]
    }
   ],
   "source": [
    "df.drop(df[(df['year'] == 2013) | (df['year'] == 2016)].index, inplace = True)\n",
    "years = df['year'].unique()\n",
    "total = df.shape[0]\n",
    "\n",
    "print('Now the dataset has values only for the years {0} and {1} with a total strength of {2} animals'.format(years[0], years[1], total))"
   ]
  },
  {
   "cell_type": "markdown",
   "metadata": {},
   "source": [
    "## General analysis of the outcomes types:"
   ]
  },
  {
   "cell_type": "markdown",
   "metadata": {},
   "source": [
    "### Outcome proportion analysis:"
   ]
  },
  {
   "cell_type": "code",
   "execution_count": 9,
   "metadata": {},
   "outputs": [
    {
     "data": {
      "text/plain": [
       "Adoption           0.396205\n",
       "Died               0.007635\n",
       "Euthanasia         0.058870\n",
       "Return_to_owner    0.178597\n",
       "Transfer           0.358694\n",
       "Name: outcome_type, dtype: float64"
      ]
     },
     "execution_count": 9,
     "metadata": {},
     "output_type": "execute_result"
    }
   ],
   "source": [
    "df['outcome_type'].value_counts().sort_index()/total"
   ]
  },
  {
   "cell_type": "markdown",
   "metadata": {},
   "source": [
    "It can be see that about 40% of the animals get adopted, 35% of them are transferred elsewhere, 5% of the animals are put to sleep and a negligible number of animals die in this shelter. Each of the above category has a designated `'outcome_subtype'` column that gives further information about them. Their analysis are as follows:"
   ]
  },
  {
   "cell_type": "markdown",
   "metadata": {},
   "source": [
    "### Adoption subtype:"
   ]
  },
  {
   "cell_type": "code",
   "execution_count": 10,
   "metadata": {},
   "outputs": [
    {
     "data": {
      "text/plain": [
       "NaN        0.812876\n",
       "Foster     0.170305\n",
       "Offsite    0.016708\n",
       "Barn       0.000111\n",
       "Name: outcome_subtype, dtype: float64"
      ]
     },
     "execution_count": 10,
     "metadata": {},
     "output_type": "execute_result"
    }
   ],
   "source": [
    "adoption = df[df['outcome_type'] == 'Adoption']\n",
    "adoption['outcome_subtype'].value_counts(dropna=False)/adoption.shape[0]"
   ]
  },
  {
   "cell_type": "markdown",
   "metadata": {},
   "source": [
    "The adoption subtype has over 80% missing values which could mean that when a person is adopting an animal, the shelter leaves the subtype column empty. About 20% of the animals are sent to foster care as it is difficult to care of animals that need special attention in places like common shelters."
   ]
  },
  {
   "cell_type": "markdown",
   "metadata": {},
   "source": [
    "### Transfer subtype:"
   ]
  },
  {
   "cell_type": "code",
   "execution_count": 11,
   "metadata": {},
   "outputs": [
    {
     "data": {
      "text/plain": [
       "Partner    0.828863\n",
       "SCRP       0.170768\n",
       "NaN        0.000246\n",
       "Barn       0.000123\n",
       "Name: outcome_subtype, dtype: float64"
      ]
     },
     "execution_count": 11,
     "metadata": {},
     "output_type": "execute_result"
    }
   ],
   "source": [
    "transfer = df[df['outcome_type'] == 'Transfer']\n",
    "transfer['outcome_subtype'].value_counts(dropna=False)/transfer.shape[0]"
   ]
  },
  {
   "cell_type": "markdown",
   "metadata": {},
   "source": [
    "Over 80% of the animals seem to be transferred to a partnering shelter for various reason which will be analysed along the way."
   ]
  },
  {
   "cell_type": "markdown",
   "metadata": {},
   "source": [
    "### Euthanasia subtype:"
   ]
  },
  {
   "cell_type": "code",
   "execution_count": 12,
   "metadata": {},
   "outputs": [
    {
     "data": {
      "text/plain": [
       "Suffering              0.658171\n",
       "Aggressive             0.197151\n",
       "Rabies Risk            0.048726\n",
       "Behavior               0.048726\n",
       "Medical                0.042729\n",
       "Court/Investigation    0.003748\n",
       "Name: outcome_subtype, dtype: float64"
      ]
     },
     "execution_count": 12,
     "metadata": {},
     "output_type": "execute_result"
    }
   ],
   "source": [
    "euthanasia = df[df['outcome_type'] == 'Euthanasia']\n",
    "euthanasia['outcome_subtype'].value_counts()/euthanasia.shape[0]"
   ]
  },
  {
   "cell_type": "markdown",
   "metadata": {},
   "source": [
    "A majority of the animals that are put to sleep seem to be suffering and another portion of the animals which could not be put up for adopted/ taken care of due behaviour/ diseases hold reasonable grounds for addressing euthanasia."
   ]
  },
  {
   "cell_type": "markdown",
   "metadata": {},
   "source": [
    "### Death subtype:"
   ]
  },
  {
   "cell_type": "code",
   "execution_count": 13,
   "metadata": {},
   "outputs": [
    {
     "data": {
      "text/plain": [
       "In Kennel     0.572254\n",
       "In Foster     0.254335\n",
       "Enroute       0.046243\n",
       "At Vet        0.023121\n",
       "In Surgery    0.017341\n",
       "Name: outcome_subtype, dtype: float64"
      ]
     },
     "execution_count": 13,
     "metadata": {},
     "output_type": "execute_result"
    }
   ],
   "source": [
    "death = df[df['outcome_type'] == 'Died']\n",
    "death['outcome_subtype'].value_counts()/death.shape[0]"
   ]
  },
  {
   "cell_type": "markdown",
   "metadata": {},
   "source": [
    "The subtypes for death seems to be for common reasons."
   ]
  },
  {
   "cell_type": "markdown",
   "metadata": {},
   "source": [
    "## Seasonality in the adoption & transfer trends:"
   ]
  },
  {
   "cell_type": "markdown",
   "metadata": {},
   "source": [
    "### Plotting adoption trend:"
   ]
  },
  {
   "cell_type": "code",
   "execution_count": 33,
   "metadata": {},
   "outputs": [
    {
     "data": {
      "image/png": "[encoded data removed]",
      "text/plain": [
       "<Figure size 1800x360 with 3 Axes>"
      ]
     },
     "metadata": {
      "needs_background": "light"
     },
     "output_type": "display_data"
    }
   ],
   "source": [
    "import matplotlib.pyplot as plt\n",
    "\n",
    "adoption_trend = adoption['month'].value_counts().sort_index()\n",
    "adoption_2014 = adoption.loc[adoption['year'] == 2014, 'month'].value_counts().sort_index()\n",
    "adoption_2015 = adoption.loc[adoption['year'] == 2015, 'month'].value_counts().sort_index()\n",
    "\n",
    "plt.figure(figsize = (25,5))\n",
    "\n",
    "#Cumulative over 2014 and 2015 \n",
    "plt.subplot(1,3,1)\n",
    "adoption_trend.plot(kind = 'line')\n",
    "plt.title('Adoption over 2014 and 2015 combined')\n",
    "plt.xlabel('Months')\n",
    "plt.ylabel('Adoption count')\n",
    "\n",
    "#2014\n",
    "plt.subplot(1,3,2)\n",
    "adoption_2014.plot(kind = 'line')\n",
    "plt.title('2014_adoption')\n",
    "plt.xlabel('Months')\n",
    "plt.ylabel('Adoption count')\n",
    "\n",
    "#2015\n",
    "plt.subplot(1,3,3)\n",
    "adoption_2015.plot(kind = 'line')\n",
    "plt.title('2015_adoption')\n",
    "plt.xlabel('Months')\n",
    "plt.ylabel('Adoption count')\n",
    "\n",
    "plt.show()"
   ]
  },
  {
   "cell_type": "markdown",
   "metadata": {},
   "source": [
    "It can be inferred from the graphs that the adoptions\n",
    "- are maximum during the mid-year months\n",
    "- they fall to about half the mid-year strength during the months following mid-year and\n",
    "- they become an all time low during the beginning of each year"
   ]
  },
  {
   "cell_type": "markdown",
   "metadata": {},
   "source": [
    "### Plotting transfer trend:"
   ]
  },
  {
   "cell_type": "code",
   "execution_count": 34,
   "metadata": {},
   "outputs": [
    {
     "data": {
      "image/png": "[encoded data removed]",
      "text/plain": [
       "<Figure size 1800x360 with 3 Axes>"
      ]
     },
     "metadata": {
      "needs_background": "light"
     },
     "output_type": "display_data"
    }
   ],
   "source": [
    "transfer = df[df['outcome_type'] == 'Transfer']\n",
    "transfer_trend = transfer['month'].value_counts().sort_index()\n",
    "transfer_2014 = transfer.loc[transfer['year'] == 2014, 'month'].value_counts().sort_index()\n",
    "transfer_2015 = transfer.loc[transfer['year'] == 2015, 'month'].value_counts().sort_index()\n",
    "\n",
    "plt.figure(figsize = (25,5))\n",
    "\n",
    "#Cumulative over 2014 and 2015\n",
    "plt.subplot(1,3,1)\n",
    "transfer_trend.plot(kind = 'line')\n",
    "plt.title('Transfer over 2014 and 2015 combined')\n",
    "plt.xlabel('Months')\n",
    "plt.ylabel('Transfer count')\n",
    "\n",
    "#2014\n",
    "plt.subplot(1,3,2)\n",
    "transfer_2014.plot(kind = 'line')\n",
    "plt.title('2014_transfer')\n",
    "plt.xlabel('Months')\n",
    "plt.ylabel('Transfer count')\n",
    "\n",
    "#2015\n",
    "plt.subplot(1,3,3)\n",
    "transfer_2015.plot(kind = 'line')\n",
    "plt.title('2015_transfer')\n",
    "plt.xlabel('Months')\n",
    "plt.ylabel('Transfer count')\n",
    "\n",
    "plt.show()"
   ]
  },
  {
   "cell_type": "markdown",
   "metadata": {},
   "source": [
    "Animal transfer trend roughly follows the same pattern as adoption trend."
   ]
  },
  {
   "cell_type": "markdown",
   "metadata": {},
   "source": [
    "## Cats and dogs outcomes:"
   ]
  },
  {
   "cell_type": "markdown",
   "metadata": {},
   "source": [
    "What is the **ratio of cats and dogs** in the shelter?"
   ]
  },
  {
   "cell_type": "code",
   "execution_count": 16,
   "metadata": {},
   "outputs": [
    {
     "data": {
      "text/plain": [
       "Dog    0.574228\n",
       "Cat    0.425772\n",
       "Name: type, dtype: float64"
      ]
     },
     "execution_count": 16,
     "metadata": {},
     "output_type": "execute_result"
    }
   ],
   "source": [
    "df['type'].value_counts()/total"
   ]
  },
  {
   "cell_type": "markdown",
   "metadata": {},
   "source": [
    "Dogs comprise about 60% and cats comprise about 40% of the animals in the shelter therefore they are in a ratio of 3:2 respectively."
   ]
  },
  {
   "cell_type": "code",
   "execution_count": 17,
   "metadata": {},
   "outputs": [
    {
     "name": "stdout",
     "output_type": "stream",
     "text": [
      "DOGS OUTCOME:\n",
      "Adoption           0.416923\n",
      "Died               0.003305\n",
      "Euthanasia         0.054565\n",
      "Return_to_owner    0.277513\n",
      "Transfer           0.247694\n",
      "Name: outcome_type, dtype: float64\n",
      "\n",
      "\n",
      "CATS OUTCOME:\n",
      "Adoption           0.368263\n",
      "Died               0.013474\n",
      "Euthanasia         0.064677\n",
      "Return_to_owner    0.045191\n",
      "Transfer           0.508396\n",
      "Name: outcome_type, dtype: float64\n"
     ]
    }
   ],
   "source": [
    "dogs = df[df['type'] == 'Dog']\n",
    "cats = df[df['type'] == 'Cat']\n",
    "\n",
    "dogs_outcome = dogs['outcome_type'].value_counts().sort_index()/dogs.shape[0]\n",
    "cats_outcome = cats['outcome_type'].value_counts().sort_index()/cats.shape[0]\n",
    "\n",
    "print('DOGS OUTCOME:')\n",
    "print(dogs_outcome)\n",
    "print('\\n')\n",
    "print('CATS OUTCOME:')\n",
    "print(cats_outcome)"
   ]
  },
  {
   "cell_type": "markdown",
   "metadata": {},
   "source": [
    "It can be seen that less than half the dogs and cats get adopted. Over half the cats are transfered but only about a quarter of the dogs are transfered. This gives us an impression that this is a **more dog-friendly/ dog-facilities enhanced shelter**."
   ]
  },
  {
   "cell_type": "markdown",
   "metadata": {},
   "source": [
    "## Gender role in adoption:"
   ]
  },
  {
   "cell_type": "code",
   "execution_count": 18,
   "metadata": {},
   "outputs": [
    {
     "name": "stdout",
     "output_type": "stream",
     "text": [
      "Male & female animals proportion in the shelter:\n"
     ]
    },
    {
     "data": {
      "text/plain": [
       "Male       0.496161\n",
       "Female     0.457590\n",
       "Unknown    0.046249\n",
       "Name: gender, dtype: float64"
      ]
     },
     "execution_count": 18,
     "metadata": {},
     "output_type": "execute_result"
    }
   ],
   "source": [
    "def gender(element):\n",
    "    return str.split(str(element))[-1]\n",
    "\n",
    "df['gender'] = df['sex'].apply(gender)\n",
    "\n",
    "print('Male & female animals proportion in the shelter:')\n",
    "df['gender'].value_counts()/total"
   ]
  },
  {
   "cell_type": "code",
   "execution_count": 19,
   "metadata": {},
   "outputs": [
    {
     "name": "stdout",
     "output_type": "stream",
     "text": [
      "ADOPTION DETAILS:\n",
      "Male dogs:    0.5054377880184332\n",
      "Female dogs:  0.4945622119815668\n",
      "Male cats:    0.49000844356881507\n",
      "Female cats:  0.5099915564311849\n"
     ]
    }
   ],
   "source": [
    "dogs_adopt = df[(df['type'] == 'Dog') & (df['outcome_type'] == 'Adoption')]\n",
    "cats_adopt = df[(df['type'] == 'Cat') & (df['outcome_type'] == 'Adoption')]\n",
    "\n",
    "print('ADOPTION DETAILS:')\n",
    "print('Male dogs:   ', dogs_adopt[dogs_adopt['gender'] == 'Male'].shape[0]/dogs_adopt.shape[0])\n",
    "print('Female dogs: ', dogs_adopt[dogs_adopt['gender'] == 'Female'].shape[0]/dogs_adopt.shape[0])\n",
    "print('Male cats:   ', cats_adopt[cats_adopt['gender'] == 'Male'].shape[0]/cats_adopt.shape[0])\n",
    "print('Female cats: ', cats_adopt[cats_adopt['gender'] == 'Female'].shape[0]/cats_adopt.shape[0])"
   ]
  },
  {
   "cell_type": "markdown",
   "metadata": {},
   "source": [
    "Regardless of gender, about half of all dogs and cats seem to be adopted."
   ]
  },
  {
   "cell_type": "markdown",
   "metadata": {},
   "source": [
    "## Popular breeds in the shelter:"
   ]
  },
  {
   "cell_type": "code",
   "execution_count": 20,
   "metadata": {},
   "outputs": [
    {
     "data": {
      "text/plain": [
       "count                      22660\n",
       "unique                      1269\n",
       "top       Domestic Shorthair Mix\n",
       "freq                        7657\n",
       "Name: breed, dtype: object"
      ]
     },
     "execution_count": 20,
     "metadata": {},
     "output_type": "execute_result"
    }
   ],
   "source": [
    "df['breed'].describe()"
   ]
  },
  {
   "cell_type": "markdown",
   "metadata": {},
   "source": [
    "There are over **1269 unique breeds** and the topmost breed seems to form about 1/3rd of all the animals in the shelter. Since there are a lot of unique values, using Series.value_counts() function for all the values in the column would not be of much help. So we use the function to view only the most predominant breeds."
   ]
  },
  {
   "cell_type": "code",
   "execution_count": 21,
   "metadata": {},
   "outputs": [
    {
     "name": "stdout",
     "output_type": "stream",
     "text": [
      "TOP 10 BREEDS:\n"
     ]
    },
    {
     "data": {
      "text/plain": [
       "Domestic Shorthair Mix       7657\n",
       "Pit Bull Mix                 1561\n",
       "Chihuahua Shorthair Mix      1470\n",
       "Labrador Retriever Mix       1100\n",
       "Domestic Medium Hair Mix      717\n",
       "German Shepherd Mix           469\n",
       "Domestic Longhair Mix         448\n",
       "Siamese Mix                   334\n",
       "Australian Cattle Dog Mix     298\n",
       "Dachshund Mix                 257\n",
       "Name: breed, dtype: int64"
      ]
     },
     "execution_count": 21,
     "metadata": {},
     "output_type": "execute_result"
    }
   ],
   "source": [
    "print('TOP 10 BREEDS:')\n",
    "df['breed'].value_counts().head(10)"
   ]
  },
  {
   "cell_type": "markdown",
   "metadata": {},
   "source": [
    "Since the **top few breeds** are huge in numbers, **their proportion** in the shelter are calculated as follows:"
   ]
  },
  {
   "cell_type": "code",
   "execution_count": 22,
   "metadata": {},
   "outputs": [
    {
     "data": {
      "text/plain": [
       "0.55"
      ]
     },
     "execution_count": 22,
     "metadata": {},
     "output_type": "execute_result"
    }
   ],
   "source": [
    "round(df['breed'].value_counts().head().sum()/total, 2)"
   ]
  },
  {
   "cell_type": "markdown",
   "metadata": {},
   "source": [
    "Just the **top 5 breeds out of 1269 unique breeds** in the shelter seems to be constituting **OVER HALF** the total animals!"
   ]
  },
  {
   "cell_type": "markdown",
   "metadata": {},
   "source": [
    "### Interesting analysis about the top animal -  The Domestic Shorthair Mix"
   ]
  },
  {
   "cell_type": "code",
   "execution_count": 23,
   "metadata": {},
   "outputs": [
    {
     "name": "stdout",
     "output_type": "stream",
     "text": [
      "Type of animal:  ['Cat']\n",
      "Its percantage in the shelter:  0.3379082082965578\n",
      "Its percentage among cats : 0.7936359867330016\n"
     ]
    }
   ],
   "source": [
    "print('Type of animal: ', df[df['breed'] == 'Domestic Shorthair Mix']['type'].unique())\n",
    "print('Its percantage in the shelter: ', df[df['breed'] == 'Domestic Shorthair Mix'].shape[0]/total)\n",
    "print('Its percentage among cats :', df[df['breed'] == 'Domestic Shorthair Mix'].shape[0]/cats.shape[0])"
   ]
  },
  {
   "cell_type": "markdown",
   "metadata": {},
   "source": [
    "The 'Domestic Shorthair Mix' is a cat breed and it forms over **30% of the total population** and about **80% of the total cats** in the shelter."
   ]
  },
  {
   "cell_type": "markdown",
   "metadata": {},
   "source": [
    "What is the outcome for this breed?"
   ]
  },
  {
   "cell_type": "code",
   "execution_count": 24,
   "metadata": {},
   "outputs": [
    {
     "data": {
      "text/plain": [
       "Transfer           0.531670\n",
       "Adoption           0.353663\n",
       "Euthanasia         0.062035\n",
       "Return_to_owner    0.039572\n",
       "Died               0.013060\n",
       "Name: outcome_type, dtype: float64"
      ]
     },
     "execution_count": 24,
     "metadata": {},
     "output_type": "execute_result"
    }
   ],
   "source": [
    "cats.loc[cats['breed'] == 'Domestic Shorthair Mix', 'outcome_type'].value_counts()/cats[cats['breed'] == 'Domestic Shorthair Mix'].shape[0]"
   ]
  },
  {
   "cell_type": "markdown",
   "metadata": {},
   "source": [
    "Over half the cats of this breed seem to be transfered to another partnering shelter and about 35% of them are adopted."
   ]
  },
  {
   "cell_type": "markdown",
   "metadata": {},
   "source": [
    "#### Cat breeds analysis:\n",
    "Checking the other cat breeds:"
   ]
  },
  {
   "cell_type": "code",
   "execution_count": 25,
   "metadata": {},
   "outputs": [
    {
     "data": {
      "text/plain": [
       "Domestic Shorthair Mix      0.793636\n",
       "Domestic Medium Hair Mix    0.074316\n",
       "Domestic Longhair Mix       0.046434\n",
       "Siamese Mix                 0.034619\n",
       "Domestic Shorthair          0.013163\n",
       "Name: breed, dtype: float64"
      ]
     },
     "execution_count": 25,
     "metadata": {},
     "output_type": "execute_result"
    }
   ],
   "source": [
    "cats['breed'].value_counts().head()/cats.shape[0]"
   ]
  },
  {
   "cell_type": "markdown",
   "metadata": {},
   "source": [
    "The other cat breeds don't seem to have a significant impact on total cat population."
   ]
  },
  {
   "cell_type": "markdown",
   "metadata": {},
   "source": [
    "#### Dog breeds analysis:\n",
    "Analysing the top dog breeds:"
   ]
  },
  {
   "cell_type": "code",
   "execution_count": 26,
   "metadata": {},
   "outputs": [
    {
     "data": {
      "text/plain": [
       "Pit Bull Mix                 1561\n",
       "Chihuahua Shorthair Mix      1470\n",
       "Labrador Retriever Mix       1100\n",
       "German Shepherd Mix           469\n",
       "Australian Cattle Dog Mix     298\n",
       "Dachshund Mix                 257\n",
       "Boxer Mix                     210\n",
       "Miniature Poodle Mix          191\n",
       "Border Collie Mix             189\n",
       "Australian Shepherd Mix       137\n",
       "Name: breed, dtype: int64"
      ]
     },
     "execution_count": 26,
     "metadata": {},
     "output_type": "execute_result"
    }
   ],
   "source": [
    "dogs['breed'].value_counts().head(10)"
   ]
  },
  {
   "cell_type": "markdown",
   "metadata": {},
   "source": [
    "Unlike the top cat breed, the **dog breeds are more distributed** rather than one value predominating the entire population. This gives us an impression that either:\n",
    "\n",
    "- domestic shorthair mix cats are the most common cats in the area (or)\n",
    "- it **might not be easy to differentiate cat breeds as easily as dog breeds** since dogs naturally have a lot of variations like body built, face structures etc.,\n",
    "\n",
    "Cumulative proportion of the first few dog breeds:"
   ]
  },
  {
   "cell_type": "code",
   "execution_count": 27,
   "metadata": {},
   "outputs": [
    {
     "name": "stdout",
     "output_type": "stream",
     "text": [
      "Percentage of the top 10 dog breeds among total dogs:  0.4520442668306179\n",
      "Percentage of the top 10 dog breeds in the shelter:  0.259576345984113\n"
     ]
    }
   ],
   "source": [
    "print('Percentage of the top 10 dog breeds among total dogs: ', dogs['breed'].value_counts().head(10).sum()/dogs.shape[0])\n",
    "print('Percentage of the top 10 dog breeds in the shelter: ', dogs['breed'].value_counts().head(10).sum()/total)"
   ]
  },
  {
   "cell_type": "markdown",
   "metadata": {},
   "source": [
    "The top 10 breeds take about 50% of the dogs and form about a quarter of the total shelter population"
   ]
  },
  {
   "cell_type": "markdown",
   "metadata": {},
   "source": [
    "## Fertility vs adoption/ transfer:"
   ]
  },
  {
   "cell_type": "code",
   "execution_count": 28,
   "metadata": {},
   "outputs": [
    {
     "data": {
      "text/plain": [
       "Intact Female    0.055757\n",
       "Intact Male      0.043436\n",
       "Neutered Male    0.533096\n",
       "Spayed Female    0.589534\n",
       "Unknown               NaN\n",
       "Name: sex, dtype: float64"
      ]
     },
     "execution_count": 28,
     "metadata": {},
     "output_type": "execute_result"
    }
   ],
   "source": [
    "adoption['sex'].value_counts(dropna=False)/df['sex'].value_counts(dropna=False)"
   ]
  },
  {
   "cell_type": "code",
   "execution_count": 29,
   "metadata": {},
   "outputs": [
    {
     "data": {
      "text/plain": [
       "Intact Female    0.728802\n",
       "Intact Male      0.668071\n",
       "Neutered Male    0.197843\n",
       "Spayed Female    0.180431\n",
       "Unknown          0.877863\n",
       "Name: sex, dtype: float64"
      ]
     },
     "execution_count": 29,
     "metadata": {},
     "output_type": "execute_result"
    }
   ],
   "source": [
    "transfer['sex'].value_counts(dropna=False).sort_index()/df['sex'].value_counts(dropna=False).sort_index()"
   ]
  },
  {
   "cell_type": "markdown",
   "metadata": {},
   "source": [
    "It can clearly be seen that **over half the sterile animals are adopted**. So sterile animals have a better shot becoming pets. But this is opposite in case of transfers, whereas fertile animals are transfered and sterile animals are kept in the shelter to be put up for adoption. About 90% of the animals whose genders are marked 'Unknown' are also transfered."
   ]
  },
  {
   "cell_type": "markdown",
   "metadata": {},
   "source": [
    "## Age analysis:"
   ]
  },
  {
   "cell_type": "code",
   "execution_count": 30,
   "metadata": {},
   "outputs": [
    {
     "data": {
      "text/plain": [
       "array(['1 year', '2 years', '3 weeks', '1 month', '5 months', '3 months',\n",
       "       '2 weeks', '2 months', '5 years', '7 years', '4 months', '3 years',\n",
       "       '4 years', '12 years', '9 years', '1 weeks', '11 years', '6 years',\n",
       "       '6 months', '4 weeks', '7 months', '8 years', '10 months',\n",
       "       '11 months', '4 days', '9 months', '8 months', '15 years',\n",
       "       '10 years', '1 week', '0 years', '14 years', '3 days', '6 days',\n",
       "       '5 days', '5 weeks', '2 days', '1 day', '13 years', '16 years',\n",
       "       '17 years', '18 years', '19 years', '20 years'], dtype=object)"
      ]
     },
     "execution_count": 30,
     "metadata": {},
     "output_type": "execute_result"
    }
   ],
   "source": [
    "df['age'].unique()"
   ]
  },
  {
   "cell_type": "markdown",
   "metadata": {},
   "source": [
    "Since the range is huge, the animals are sorted into two categories namely:\n",
    "- Little (age < 1 year)\n",
    "- Big (age > 1 year)"
   ]
  },
  {
   "cell_type": "code",
   "execution_count": 31,
   "metadata": {},
   "outputs": [
    {
     "data": {
      "text/plain": [
       "Little    4812\n",
       "Big       4166\n",
       "Name: ages, dtype: int64"
      ]
     },
     "execution_count": 31,
     "metadata": {},
     "output_type": "execute_result"
    }
   ],
   "source": [
    "pd.options.mode.chained_assignment = None  # default='warn' - to avoid SettingWithCopyWarning\n",
    "\n",
    "def age_calc(element): \n",
    "    if 'year' in element:\n",
    "        return 'Big'\n",
    "    return 'Little'\n",
    "\n",
    "adoption['ages'] = adoption['age'].apply(age_calc)\n",
    "adoption['ages'].value_counts()"
   ]
  },
  {
   "cell_type": "code",
   "execution_count": 32,
   "metadata": {},
   "outputs": [
    {
     "name": "stdout",
     "output_type": "stream",
     "text": [
      "Adoption ratio:\n",
      "Big:     0.4640231677433727\n",
      "Little:  0.5359768322566273\n"
     ]
    }
   ],
   "source": [
    "big = adoption[adoption['ages'] == 'Big']\n",
    "little = adoption[adoption['ages'] == 'Little']\n",
    "\n",
    "print('Adoption ratio:')\n",
    "print('Big:    ', big.shape[0]/adoption.shape[0])\n",
    "print('Little: ', little.shape[0]/adoption.shape[0])"
   ]
  },
  {
   "cell_type": "markdown",
   "metadata": {},
   "source": [
    "The 'Big' and the 'Little' category animals both seems to be having a fair shot at getting adopted. But this step is open for futher analysis in the future."
   ]
  },
  {
   "cell_type": "markdown",
   "metadata": {},
   "source": [
    "## Conclusion:\n",
    "To answer the questions posed in the beginning of the project:\n",
    "- Mid-year is the peak time for adoption and transfers\n",
    "- Dogs and cats are equally adopted\n",
    "- Male and female dogs and cats are also equally adopted\n",
    "- The top cat breed (Domestic shorthair) forms about 80% of the total cats and 30% of the animals in the entire shelter. Dog breeds are more distributed unlike cats.\n",
    "- Sterile pets are preferred for pet adoption\n",
    "- First-degree analysis of age shows equal chances of adoption"
   ]
  }
 ],
 "metadata": {
  "interpreter": {
   "hash": "3ca533f7c425b38d943547d6ab9bf212791446b54f552173a4d949eca303e023"
  },
  "kernelspec": {
   "display_name": "Python 3",
   "language": "python",
   "name": "python3"
  },
  "language_info": {
   "codemirror_mode": {
    "name": "ipython",
    "version": 3
   },
   "file_extension": ".py",
   "mimetype": "text/x-python",
   "name": "python",
   "nbconvert_exporter": "python",
   "pygments_lexer": "ipython3",
   "version": "3.8.8"
  }
 },
 "nbformat": 4,
 "nbformat_minor": 2
}
