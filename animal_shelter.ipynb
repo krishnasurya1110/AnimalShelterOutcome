{
 "cells": [
  {
   "cell_type": "markdown",
   "metadata": {},
   "source": [
    "# Animal Shelter Outcome Analysis\n",
    "This project focuses on finding the effects of type, gender, age, breed, reproductive state on an animal's adoption/ transfer. The analysis are answers the following questions:\n",
    "\n",
    "- What are the general outcomes?\n",
    "- Can we spot seasonality in the adoption/ transfer trends?\n",
    "- Do cats have more luck in getting adopted?\n",
    "- Do male dogs & cats have a better shot at getting adopted than their female counterparts?\n",
    "- What are the most prevelants breeds of animals in the shelter?\n",
    "- Do people prefer sterile animals for a pet?\n",
    "- Is age a factor?\n",
    "- A few interesting analyses on insights found along the way\n",
    "\n",
    "The dataset can be downloaded from [here](https://www.kaggle.com/c/shelter-animal-outcomes/data). "
   ]
  },
  {
   "cell_type": "code",
   "execution_count": 28,
   "metadata": {},
   "outputs": [
    {
     "name": "stdout",
     "output_type": "stream",
     "text": [
      "<class 'pandas.core.frame.DataFrame'>\n",
      "RangeIndex: 26729 entries, 0 to 26728\n",
      "Data columns (total 10 columns):\n",
      " #   Column          Non-Null Count  Dtype \n",
      "---  ------          --------------  ----- \n",
      " 0   AnimalID        26729 non-null  object\n",
      " 1   Name            19038 non-null  object\n",
      " 2   DateTime        26729 non-null  object\n",
      " 3   OutcomeType     26729 non-null  object\n",
      " 4   OutcomeSubtype  13117 non-null  object\n",
      " 5   AnimalType      26729 non-null  object\n",
      " 6   SexuponOutcome  26728 non-null  object\n",
      " 7   AgeuponOutcome  26711 non-null  object\n",
      " 8   Breed           26729 non-null  object\n",
      " 9   Color           26729 non-null  object\n",
      "dtypes: object(10)\n",
      "memory usage: 2.0+ MB\n"
     ]
    }
   ],
   "source": [
    "import pandas as pd\n",
    "df = pd.read_csv('shelter_outcome.csv')\n",
    "df.info()"
   ]
  },
  {
   "cell_type": "code",
   "execution_count": 29,
   "metadata": {},
   "outputs": [
    {
     "data": {
      "text/plain": [
       "AnimalID              0\n",
       "Name               7691\n",
       "DateTime              0\n",
       "OutcomeType           0\n",
       "OutcomeSubtype    13612\n",
       "AnimalType            0\n",
       "SexuponOutcome        1\n",
       "AgeuponOutcome       18\n",
       "Breed                 0\n",
       "Color                 0\n",
       "dtype: int64"
      ]
     },
     "execution_count": 29,
     "metadata": {},
     "output_type": "execute_result"
    }
   ],
   "source": [
    "df.isnull().sum()"
   ]
  },
  {
   "cell_type": "markdown",
   "metadata": {},
   "source": [
    "Only the `'Name'` and `'OutcomeSubType'` columns have missing values which does not affect the analysis. <br>\n",
    "Changing CamelCase columns to snake_case and getting rid of redundant details:"
   ]
  },
  {
   "cell_type": "code",
   "execution_count": 30,
   "metadata": {},
   "outputs": [
    {
     "data": {
      "text/html": [
       "<div>\n",
       "<style scoped>\n",
       "    .dataframe tbody tr th:only-of-type {\n",
       "        vertical-align: middle;\n",
       "    }\n",
       "\n",
       "    .dataframe tbody tr th {\n",
       "        vertical-align: top;\n",
       "    }\n",
       "\n",
       "    .dataframe thead th {\n",
       "        text-align: right;\n",
       "    }\n",
       "</style>\n",
       "<table border=\"1\" class=\"dataframe\">\n",
       "  <thead>\n",
       "    <tr style=\"text-align: right;\">\n",
       "      <th></th>\n",
       "      <th>id</th>\n",
       "      <th>name</th>\n",
       "      <th>datetime</th>\n",
       "      <th>outcome_type</th>\n",
       "      <th>outcome_subtype</th>\n",
       "      <th>type</th>\n",
       "      <th>sex</th>\n",
       "      <th>age</th>\n",
       "      <th>breed</th>\n",
       "      <th>color</th>\n",
       "    </tr>\n",
       "  </thead>\n",
       "  <tbody>\n",
       "    <tr>\n",
       "      <th>0</th>\n",
       "      <td>A671945</td>\n",
       "      <td>Hambone</td>\n",
       "      <td>2014-02-12 18:22:00</td>\n",
       "      <td>Return_to_owner</td>\n",
       "      <td>NaN</td>\n",
       "      <td>Dog</td>\n",
       "      <td>Neutered Male</td>\n",
       "      <td>1 year</td>\n",
       "      <td>Shetland Sheepdog Mix</td>\n",
       "      <td>Brown/White</td>\n",
       "    </tr>\n",
       "    <tr>\n",
       "      <th>1</th>\n",
       "      <td>A656520</td>\n",
       "      <td>Emily</td>\n",
       "      <td>2013-10-13 12:44:00</td>\n",
       "      <td>Euthanasia</td>\n",
       "      <td>Suffering</td>\n",
       "      <td>Cat</td>\n",
       "      <td>Spayed Female</td>\n",
       "      <td>1 year</td>\n",
       "      <td>Domestic Shorthair Mix</td>\n",
       "      <td>Cream Tabby</td>\n",
       "    </tr>\n",
       "    <tr>\n",
       "      <th>2</th>\n",
       "      <td>A686464</td>\n",
       "      <td>Pearce</td>\n",
       "      <td>2015-01-31 12:28:00</td>\n",
       "      <td>Adoption</td>\n",
       "      <td>Foster</td>\n",
       "      <td>Dog</td>\n",
       "      <td>Neutered Male</td>\n",
       "      <td>2 years</td>\n",
       "      <td>Pit Bull Mix</td>\n",
       "      <td>Blue/White</td>\n",
       "    </tr>\n",
       "    <tr>\n",
       "      <th>3</th>\n",
       "      <td>A683430</td>\n",
       "      <td>NaN</td>\n",
       "      <td>2014-07-11 19:09:00</td>\n",
       "      <td>Transfer</td>\n",
       "      <td>Partner</td>\n",
       "      <td>Cat</td>\n",
       "      <td>Intact Male</td>\n",
       "      <td>3 weeks</td>\n",
       "      <td>Domestic Shorthair Mix</td>\n",
       "      <td>Blue Cream</td>\n",
       "    </tr>\n",
       "    <tr>\n",
       "      <th>4</th>\n",
       "      <td>A667013</td>\n",
       "      <td>NaN</td>\n",
       "      <td>2013-11-15 12:52:00</td>\n",
       "      <td>Transfer</td>\n",
       "      <td>Partner</td>\n",
       "      <td>Dog</td>\n",
       "      <td>Neutered Male</td>\n",
       "      <td>2 years</td>\n",
       "      <td>Lhasa Apso/Miniature Poodle</td>\n",
       "      <td>Tan</td>\n",
       "    </tr>\n",
       "  </tbody>\n",
       "</table>\n",
       "</div>"
      ],
      "text/plain": [
       "        id     name             datetime     outcome_type outcome_subtype  \\\n",
       "0  A671945  Hambone  2014-02-12 18:22:00  Return_to_owner             NaN   \n",
       "1  A656520    Emily  2013-10-13 12:44:00       Euthanasia       Suffering   \n",
       "2  A686464   Pearce  2015-01-31 12:28:00         Adoption          Foster   \n",
       "3  A683430      NaN  2014-07-11 19:09:00         Transfer         Partner   \n",
       "4  A667013      NaN  2013-11-15 12:52:00         Transfer         Partner   \n",
       "\n",
       "  type            sex      age                        breed        color  \n",
       "0  Dog  Neutered Male   1 year        Shetland Sheepdog Mix  Brown/White  \n",
       "1  Cat  Spayed Female   1 year       Domestic Shorthair Mix  Cream Tabby  \n",
       "2  Dog  Neutered Male  2 years                 Pit Bull Mix   Blue/White  \n",
       "3  Cat    Intact Male  3 weeks       Domestic Shorthair Mix   Blue Cream  \n",
       "4  Dog  Neutered Male  2 years  Lhasa Apso/Miniature Poodle          Tan  "
      ]
     },
     "execution_count": 30,
     "metadata": {},
     "output_type": "execute_result"
    }
   ],
   "source": [
    "col_list =[]\n",
    "\n",
    "for col in df.columns:\n",
    "    col = col.lower()\n",
    "    col = col.replace('animal', '')\n",
    "    col = col.replace('uponoutcome', '')\n",
    "    col = col.replace('outcome', 'outcome_')\n",
    "    col_list.append(col)\n",
    "\n",
    "df.columns = col_list\n",
    "df.head()"
   ]
  },
  {
   "cell_type": "markdown",
   "metadata": {},
   "source": [
    "Date and time information are given in the object format. Converting them to datetime to use in time series analysis later:"
   ]
  },
  {
   "cell_type": "code",
   "execution_count": 31,
   "metadata": {},
   "outputs": [
    {
     "data": {
      "text/plain": [
       "id                         object\n",
       "name                       object\n",
       "datetime           datetime64[ns]\n",
       "outcome_type               object\n",
       "outcome_subtype            object\n",
       "type                       object\n",
       "sex                        object\n",
       "age                        object\n",
       "breed                      object\n",
       "color                      object\n",
       "dtype: object"
      ]
     },
     "execution_count": 31,
     "metadata": {},
     "output_type": "execute_result"
    }
   ],
   "source": [
    "import datetime as dt\n",
    "df['datetime'] = pd.to_datetime(df['datetime'])\n",
    "df.dtypes"
   ]
  },
  {
   "cell_type": "markdown",
   "metadata": {},
   "source": [
    "Analysing the outcome strength of the shelter by year:"
   ]
  },
  {
   "cell_type": "code",
   "execution_count": 32,
   "metadata": {},
   "outputs": [
    {
     "data": {
      "text/plain": [
       "2013     2702\n",
       "2014    11179\n",
       "2015    11481\n",
       "2016     1367\n",
       "Name: year, dtype: int64"
      ]
     },
     "execution_count": 32,
     "metadata": {},
     "output_type": "execute_result"
    }
   ],
   "source": [
    "df['year'] = pd.DatetimeIndex(df['datetime']).year\n",
    "df['year'].value_counts().sort_index()"
   ]
  },
  {
   "cell_type": "code",
   "execution_count": 33,
   "metadata": {},
   "outputs": [
    {
     "name": "stdout",
     "output_type": "stream",
     "text": [
      "Months in the year 2013: [10 11 12]\n",
      "Months in the year 2014: [ 2  7  4  5  6  1  8 11  9 12  3 10]\n",
      "Months in the year 2015: [ 1  3  4  6 11  9  8 10  7  5 12  2]\n",
      "Months in the year 2016: [2 1]\n"
     ]
    }
   ],
   "source": [
    "df['month'] = pd.DatetimeIndex(df['datetime']).month\n",
    "for i in range(2013, 2017):\n",
    "    print('Months in the year {}: '.format(i), end = '')\n",
    "    print(df.loc[(df['year'] == i), 'month'].unique())"
   ]
  },
  {
   "cell_type": "markdown",
   "metadata": {},
   "source": [
    "As mentioned [here](https://www.kaggle.com/c/shelter-animal-outcomes/data), the years 2013 and 2016 has values only for a few months. This can hinder the analysis of yearly adoption/ transfer trends. So the data from these two years are removed from furthur analysis."
   ]
  },
  {
   "cell_type": "code",
   "execution_count": 34,
   "metadata": {},
   "outputs": [
    {
     "name": "stdout",
     "output_type": "stream",
     "text": [
      "Now the dataset has values only for the years 2014 and 2015 with a total strength of 22660 animals\n"
     ]
    }
   ],
   "source": [
    "df.drop(df[(df['year'] == 2013) | (df['year'] == 2016)].index, inplace = True)\n",
    "years = df['year'].unique()\n",
    "total = df.shape[0]\n",
    "\n",
    "print('Now the dataset has values only for the years {0} and {1} with a total strength of {2} animals'.format(years[0], years[1], total))"
   ]
  },
  {
   "cell_type": "markdown",
   "metadata": {},
   "source": [
    "## General analysis of the outcomes types:"
   ]
  },
  {
   "cell_type": "markdown",
   "metadata": {},
   "source": [
    "### Outcome proportion analysis:"
   ]
  },
  {
   "cell_type": "code",
   "execution_count": 35,
   "metadata": {},
   "outputs": [
    {
     "data": {
      "text/plain": [
       "Adoption           0.396205\n",
       "Died               0.007635\n",
       "Euthanasia         0.058870\n",
       "Return_to_owner    0.178597\n",
       "Transfer           0.358694\n",
       "Name: outcome_type, dtype: float64"
      ]
     },
     "execution_count": 35,
     "metadata": {},
     "output_type": "execute_result"
    }
   ],
   "source": [
    "df['outcome_type'].value_counts().sort_index()/total"
   ]
  },
  {
   "cell_type": "markdown",
   "metadata": {},
   "source": [
    "It can be see that about 40% of the animals get adopted, 35% of them are transferred elsewhere, 5% of the animals are put to sleep and a negligible number of animals die in this shelter. Each of the above category has a designated `'outcome_subtype'` column that gives further information about them. Their analysis are as follows:"
   ]
  },
  {
   "cell_type": "markdown",
   "metadata": {},
   "source": [
    "### Adoption subtype:"
   ]
  },
  {
   "cell_type": "code",
   "execution_count": 36,
   "metadata": {},
   "outputs": [
    {
     "data": {
      "text/plain": [
       "NaN        0.812876\n",
       "Foster     0.170305\n",
       "Offsite    0.016708\n",
       "Barn       0.000111\n",
       "Name: outcome_subtype, dtype: float64"
      ]
     },
     "execution_count": 36,
     "metadata": {},
     "output_type": "execute_result"
    }
   ],
   "source": [
    "adoption = df[df['outcome_type'] == 'Adoption']\n",
    "adoption['outcome_subtype'].value_counts(dropna=False)/adoption.shape[0]"
   ]
  },
  {
   "cell_type": "markdown",
   "metadata": {},
   "source": [
    "The adoption subtype has over 80% missing values which could mean that when a person is adopting an animal, the shelter leaves the subtype column empty. About 20% of the animals are sent to foster care as it is difficult to care of animals that need special attention in places like common shelters."
   ]
  },
  {
   "cell_type": "markdown",
   "metadata": {},
   "source": [
    "### Transfer subtype:"
   ]
  },
  {
   "cell_type": "code",
   "execution_count": 37,
   "metadata": {},
   "outputs": [
    {
     "data": {
      "text/plain": [
       "Partner    0.828863\n",
       "SCRP       0.170768\n",
       "NaN        0.000246\n",
       "Barn       0.000123\n",
       "Name: outcome_subtype, dtype: float64"
      ]
     },
     "execution_count": 37,
     "metadata": {},
     "output_type": "execute_result"
    }
   ],
   "source": [
    "transfer = df[df['outcome_type'] == 'Transfer']\n",
    "transfer['outcome_subtype'].value_counts(dropna=False)/transfer.shape[0]"
   ]
  },
  {
   "cell_type": "markdown",
   "metadata": {},
   "source": [
    "Over 80% of the animals seem to be transferred to a partnering shelter for various reason which will be analysed along the way."
   ]
  },
  {
   "cell_type": "markdown",
   "metadata": {},
   "source": [
    "### Euthanasia subtype:"
   ]
  },
  {
   "cell_type": "code",
   "execution_count": 38,
   "metadata": {},
   "outputs": [
    {
     "data": {
      "text/plain": [
       "Suffering              0.658171\n",
       "Aggressive             0.197151\n",
       "Behavior               0.048726\n",
       "Rabies Risk            0.048726\n",
       "Medical                0.042729\n",
       "Court/Investigation    0.003748\n",
       "Name: outcome_subtype, dtype: float64"
      ]
     },
     "execution_count": 38,
     "metadata": {},
     "output_type": "execute_result"
    }
   ],
   "source": [
    "euthanasia = df[df['outcome_type'] == 'Euthanasia']\n",
    "euthanasia['outcome_subtype'].value_counts()/euthanasia.shape[0]"
   ]
  },
  {
   "cell_type": "markdown",
   "metadata": {},
   "source": [
    "A majority of the animals that are put to sleep seem to be suffering and another portion of the animals which could not be put up for adopted/ taken care of due behaviour/ diseases hold reasonable grounds for addressing euthanasia."
   ]
  },
  {
   "cell_type": "markdown",
   "metadata": {},
   "source": [
    "### Death subtype:"
   ]
  },
  {
   "cell_type": "code",
   "execution_count": 39,
   "metadata": {},
   "outputs": [
    {
     "data": {
      "text/plain": [
       "In Kennel     0.572254\n",
       "In Foster     0.254335\n",
       "Enroute       0.046243\n",
       "At Vet        0.023121\n",
       "In Surgery    0.017341\n",
       "Name: outcome_subtype, dtype: float64"
      ]
     },
     "execution_count": 39,
     "metadata": {},
     "output_type": "execute_result"
    }
   ],
   "source": [
    "death = df[df['outcome_type'] == 'Died']\n",
    "death['outcome_subtype'].value_counts()/death.shape[0]"
   ]
  },
  {
   "cell_type": "markdown",
   "metadata": {},
   "source": [
    "The subtypes for death seems to be for common reason."
   ]
  }
 ],
 "metadata": {
  "interpreter": {
   "hash": "3ca533f7c425b38d943547d6ab9bf212791446b54f552173a4d949eca303e023"
  },
  "kernelspec": {
   "display_name": "Python 3.8.8 64-bit ('base': conda)",
   "language": "python",
   "name": "python3"
  },
  "language_info": {
   "codemirror_mode": {
    "name": "ipython",
    "version": 3
   },
   "file_extension": ".py",
   "mimetype": "text/x-python",
   "name": "python",
   "nbconvert_exporter": "python",
   "pygments_lexer": "ipython3",
   "version": "3.8.8"
  },
  "orig_nbformat": 4
 },
 "nbformat": 4,
 "nbformat_minor": 2
}
